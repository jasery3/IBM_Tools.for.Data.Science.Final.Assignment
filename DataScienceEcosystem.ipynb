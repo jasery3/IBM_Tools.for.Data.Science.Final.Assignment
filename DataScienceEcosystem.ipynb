{
 "cells": [
  {
   "cell_type": "markdown",
   "id": "d3d776e9",
   "metadata": {},
   "source": [
    "# Data Science Tools and Ecosystem\n"
   ]
  },
  {
   "cell_type": "markdown",
   "id": "e3464838",
   "metadata": {},
   "source": [
    "### *__In this notebook, Data Science Tools and Ecosystem are summarized__*"
   ]
  },
  {
   "cell_type": "markdown",
   "id": "02227cca",
   "metadata": {},
   "source": [
    "**Objectives**\n",
    "* List popular Data Science languages, libraries and tools\n",
    "* Demonstrate how Python can be used to perform arithmetic"
   ]
  },
  {
   "cell_type": "markdown",
   "id": "c92d9b30",
   "metadata": {},
   "source": [
    "__Some of the popular languages that Data Scientists use are:__\n",
    "1. Python\n",
    "2.  R\n",
    "3.  SQL"
   ]
  },
  {
   "cell_type": "markdown",
   "id": "4df64377",
   "metadata": {},
   "source": [
    "__Some of the commonly  used libraries in Data Science are:__\n",
    "\n",
    "1. dplyer (R)\n",
    "2. ggplot2 (R)\n",
    "3. NumPy (Python)\n",
    "4. Matplotlib (Python)\n",
    "5. TensorFlow (Python)"
   ]
  },
  {
   "cell_type": "markdown",
   "id": "3424d954",
   "metadata": {},
   "source": [
    "|Date Science Tools|\n",
    "---------\n",
    "|Anaconda|\n",
    "|Jupyter|\n",
    "|Hadoop|\n",
    "|RStudio|\n",
    "|Apache Spark|"
   ]
  },
  {
   "cell_type": "markdown",
   "id": "63e84ec0",
   "metadata": {},
   "source": [
    "**Below are some examples of using Python to perform arithmetic:**"
   ]
  },
  {
   "cell_type": "code",
   "execution_count": 1,
   "id": "dfd19074",
   "metadata": {},
   "outputs": [
    {
     "data": {
      "text/plain": [
       "17"
      ]
     },
     "execution_count": 1,
     "metadata": {},
     "output_type": "execute_result"
    }
   ],
   "source": [
    "#This is a simple arithmetic expression to multiply then add an integer\n",
    "(3*4)+5"
   ]
  },
  {
   "cell_type": "code",
   "execution_count": 2,
   "id": "9009f2f4",
   "metadata": {},
   "outputs": [
    {
     "data": {
      "text/plain": [
       "3.3333333333333335"
      ]
     },
     "execution_count": 2,
     "metadata": {},
     "output_type": "execute_result"
    }
   ],
   "source": [
    "#This code will convert 200 minutes to hours\n",
    "200/60"
   ]
  },
  {
   "cell_type": "markdown",
   "id": "ccf3063f",
   "metadata": {},
   "source": [
    "## Author\n",
    "Sean Johnson"
   ]
  },
  {
   "cell_type": "code",
   "execution_count": null,
   "id": "e212b6a7",
   "metadata": {},
   "outputs": [],
   "source": []
  }
 ],
 "metadata": {
  "kernelspec": {
   "display_name": "Python 3 (ipykernel)",
   "language": "python",
   "name": "python3"
  },
  "language_info": {
   "codemirror_mode": {
    "name": "ipython",
    "version": 3
   },
   "file_extension": ".py",
   "mimetype": "text/x-python",
   "name": "python",
   "nbconvert_exporter": "python",
   "pygments_lexer": "ipython3",
   "version": "3.11.3"
  }
 },
 "nbformat": 4,
 "nbformat_minor": 5
}
